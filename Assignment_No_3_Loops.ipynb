{
  "nbformat": 4,
  "nbformat_minor": 0,
  "metadata": {
    "colab": {
      "provenance": []
    },
    "kernelspec": {
      "name": "python3",
      "display_name": "Python 3"
    },
    "language_info": {
      "name": "python"
    }
  },
  "cells": [
    {
      "cell_type": "code",
      "source": [
        "#Assignments Questions:\n",
        "#  1)Print the following pattern:-\n",
        "# O/P:-\n",
        "# *\n",
        "# * *\n",
        "# * * *\n",
        "# * * * *\n",
        "# * * * * *\n",
        "\n",
        "for i in range (1,6):\n",
        "  for j in range (1,i+1):\n",
        "    print(\"*\",end = \" \")\n",
        "  print()"
      ],
      "metadata": {
        "id": "i6TSmYIpRCF5",
        "colab": {
          "base_uri": "https://localhost:8080/"
        },
        "outputId": "ae450697-f9f2-4eb8-b144-70db246f3dfd"
      },
      "execution_count": null,
      "outputs": [
        {
          "output_type": "stream",
          "name": "stdout",
          "text": [
            "* \n",
            "* * \n",
            "* * * \n",
            "* * * * \n",
            "* * * * * \n"
          ]
        }
      ]
    },
    {
      "cell_type": "code",
      "source": [
        "# 2)Print the following pattern:-\n",
        "# O/P:-\n",
        "# * * * * *\n",
        "# * * * *\n",
        "# * * *\n",
        "# * *\n",
        "# *\n",
        "\n",
        "for i in range (6,0,-1):\n",
        "  for j in range (1,i):\n",
        "    print('*', end= \" \")\n",
        "  print()"
      ],
      "metadata": {
        "colab": {
          "base_uri": "https://localhost:8080/"
        },
        "id": "k1_KFxfMObU8",
        "outputId": "1c32c8ba-ab21-435f-ffe6-b21f6eedb742"
      },
      "execution_count": null,
      "outputs": [
        {
          "output_type": "stream",
          "name": "stdout",
          "text": [
            "* * * * * \n",
            "* * * * \n",
            "* * * \n",
            "* * \n",
            "* \n",
            "\n"
          ]
        }
      ]
    },
    {
      "cell_type": "code",
      "source": [
        "\n",
        "\n",
        "#Answers below Question without running the programs:---\n",
        "\n",
        "# 1. Which of the following is not used as loop in Python?\n",
        "\n",
        "# A. for loop\n",
        "# B. while loop\n",
        "# C. do-while loop\n",
        "# D. None of the above\n",
        "\n",
        "answer = C (do-while loop)\n",
        "\n",
        "# 2. Which of the following is False regarding loops in Python?\n",
        "\n",
        "# A. Loops are used to perform certain tasks repeatedly.\n",
        "# B. While loop is used when multiple statements are to executed repeatedly until the given condition becomes False\n",
        "# C. While loop is used when multiple statements are to executed repeatedly until the given condition becomes True.\n",
        "# D. for loop can be used to iterate through the elements of lists.\n",
        "\n",
        "answer = # C. While loop is used when multiple statements are to executed repeatedly until the given condition becomes True.\n",
        "\n",
        "\n",
        "# 3. Which of the following is True regarding loops in Python?\n",
        "\n",
        "# A. Loops should be ended with keyword \"end\".\n",
        "# B. No loop can be used to iterate through the elements of strings.\n",
        "# C. Keyword \"break\" can be used to bring control out of the current loop.\n",
        "# D. Keyword \"continue\" is used to continue with the remaining statements inside the loop.\n",
        "\n",
        "answer = # D. Keyword \"continue\" is used to continue with the remaining statements inside the loop.\n",
        "\n",
        "# 4. What will be the output of given Python code?\n",
        "\n",
        "# n=7\n",
        "\n",
        "# c=0\n",
        "\n",
        "# while(n):\n",
        "\n",
        "#     if(n>5):\n",
        "\n",
        "#         c=c+n-1\n",
        "\n",
        "#         n=n-1\n",
        "\n",
        "#     else:\n",
        "\n",
        "#         break\n",
        "\n",
        "# print(n)\n",
        "\n",
        "# print(c)\n",
        "\n",
        "\n",
        "# A. 5 11\n",
        "# B. 5 9\n",
        "# C. 7 11\n",
        "# D. 5 2\n",
        "\n",
        "Answer : # A. 5 11\n",
        "\n",
        "# 5. What will be the output of given Python code?\n",
        "\n",
        "# str1=\"hello\"\n",
        "# c=0\n",
        "# for x in str1:\n",
        "#    if(x!=\"l\"):\n",
        "#        c=c+1\n",
        "#    else:\n",
        "#        pass\n",
        "# print(c)\n",
        "# A. 2\n",
        "# B. 0\n",
        "# C. 4\n",
        "# D. 3\n",
        "\n",
        "Answer : # D. 3\n",
        "\n",
        "# 6. Which of the following Python code will give different output from the others?\n",
        "\n",
        "# A. for i in range(0,5):\n",
        "#     print(i)\n",
        "# B. for j in [0,1,2,3,4]:\n",
        "#     print(j)\n",
        "# C. for k in [0,1,2,3,4,5]:\n",
        "#     print(k)\n",
        "# D. for l in range(0,5,1):\n",
        "#     print(l)\n",
        "\n",
        "Answer : D. for l in range(0,5,1):\n",
        "         print(l)\n",
        "\n",
        "# 7. How many times will the loop run?\n",
        "\n",
        "# i=2\n",
        "\n",
        "# while(i>0):\n",
        "\n",
        "#     i=i-1\n",
        "\n",
        "# A. 2\n",
        "# B. 3\n",
        "# C. 1\n",
        "# D. 0\n",
        "\n",
        "Answer : # A. 2\n",
        "\n",
        "# 8. What will be the output of the following Python code?\n",
        "\n",
        "# list1 = [3 , 2 , 5 , 6 , 0 , 7, 9]\n",
        "\n",
        "# sum = 0\n",
        "\n",
        "# sum1 = 0\n",
        "\n",
        "# for elem in list1:\n",
        "\n",
        "#     if (elem % 2 == 0):\n",
        "\n",
        "#         sum = sum + elem\n",
        "\n",
        "#         continue\n",
        "\n",
        "#     if (elem % 3 == 0):\n",
        "\n",
        "#         sum1 = sum1 + elem\n",
        "\n",
        "\n",
        "\n",
        "# print(sum , end=\" \")\n",
        "\n",
        "# print(sum1)\n",
        "\n",
        "# A. 8 9\n",
        "# B. 8 3\n",
        "# C. 2 3\n",
        "# D. 8 12\n",
        "\n",
        "Answer : # D. 8 12\n",
        "\n",
        "# 9. What will be the output of the following Python code?\n",
        "\n",
        "# for i in range(0,2,-1):\n",
        "\n",
        "#     print(\"Hello\")\n",
        "\n",
        "# A. Hello\n",
        "# B. Hello Hello\n",
        "# C. No Output\n",
        "# D. Error\n",
        "\n",
        "Answer : # C. No Output\n",
        "\n",
        "\n",
        "# 10)Which of the following is not a valid for loop in Python?\n",
        "\n",
        "# A. for i in range(5):\n",
        "# B. for i in range(0,5):\n",
        "# C. for i in range(0,5,1):\n",
        "# D. for i in range(5,0,-1):\n",
        "\n",
        "Answer : # A. for i in range(5):\n",
        "\n",
        "# 11)What will be the output of the following code?\n",
        "\n",
        "# x = \"abcdef\"\n",
        "\n",
        "# for i in range(len(x)):\n",
        "\n",
        "#     print(i)\n",
        "\n",
        "# A. abcd\n",
        "# B. 0 1 2 3\n",
        "# C. 1 2 3 4\n",
        "# D. a b c d\n",
        "\n",
        "Answer : none of the above output. The total length of abcdef is 6 so the expected output would be\n",
        "0\n",
        "1\n",
        "2\n",
        "3\n",
        "4\n",
        "5\n",
        "\n",
        "# 12. What keyword would you use to add an alternative condition to an if statement?\n",
        "\n",
        "# A. else if\n",
        "# B. elseif\n",
        "# C. elif\n",
        "# D. None of the above\n",
        "\n",
        "Answer: # C. elif\n",
        "\n",
        "\n",
        "# 13. Can we write if/else into one line in python?\n",
        "\n",
        "# A. Yes\n",
        "# B. No\n",
        "# C. if/else not used in python\n",
        "# D. None of the above\n",
        "\n",
        "Answer : # B. No\n",
        "\n",
        "# 14. In a Python program, a control structure:\n",
        "\n",
        "# A. Defines program-specific data structures\n",
        "# B. Directs the order of execution of the statements in the program\n",
        "# C. Dictates what happens before the program starts and after it terminates\n",
        "# D. None of the above\n",
        "\n",
        "Answer : # B. Directs the order of execution of the statements in the program\n",
        "\n",
        "# 15. What will be output of this expression:\n",
        "\n",
        "# 'p' + 'q' if '12'.isdigit() else 'r' + 's'\n",
        "# A. pq\n",
        "# B. rs\n",
        "# C. pqrs\n",
        "# D. pq12\n",
        "\n",
        "Answer : # A. pq\n",
        "\n",
        "# 16. Which statement will check if a is equal to b?\n",
        "\n",
        "# A. if a = b:\n",
        "# B. if a == b:\n",
        "# C. if a === c:\n",
        "# D. if a == b\n",
        "\n",
        "Answer : # B. if a == b:\n",
        "\n",
        "# 17. Does python have switch case statement?\n",
        "\n",
        "# A. True\n",
        "# B. False\n",
        "# C. Python has switch statement but we can not use it.\n",
        "# D. None of the above\n",
        "\n",
        "Answer : # B. False\n",
        "\n",
        "# 18. Which of the following is a valid for loop in Python?\n",
        "\n",
        "# A. for(i=0; i < n; i++)\n",
        "# B. for i in range(0,5):\n",
        "# C. for i in range(0,5)\n",
        "# D. for i in range(5)\n",
        "\n",
        "Answer : # B. for i in range(0,5):\n",
        "\n",
        "# 19. Which of the following sequences would be generated bt the given line of code?\n",
        "\n",
        "# range (5, 0, -2)\n",
        "# A. 5 4 3 2 1 0 -1\n",
        "# B. 5 4 3 2 1 0\n",
        "# C. 5 3 1\n",
        "# D. None of the above\n",
        "\n",
        "Answer : # C. 5 3 1\n",
        "\n",
        "# 20. A while loop in Python is used for what type of iteration?\n",
        "\n",
        "# A. indefinite\n",
        "# B. discriminant\n",
        "# C. definite\n",
        "# D. indeterminate\n",
        "\n",
        "Answer: # C. definite\n",
        "\n",
        "# 21. When does the else statement written after loop executes?\n",
        "\n",
        "# A. When break statement is executed in the loop\n",
        "# B. When loop condition becomes false\n",
        "# C. Else statement is always executed\n",
        "# D. None of the above\n",
        "\n",
        "Answer : # B. When loop condition becomes false\n",
        "\n",
        "# 22. What will be the output of the following code?\n",
        "\n",
        "# x = \"abcdef\"\n",
        "\n",
        "# i = \"i\"\n",
        "\n",
        "# while i in x:\n",
        "\n",
        "#     print(i, end=\" \")\n",
        "# A. a b c d e f\n",
        "# B. abcdef\n",
        "# C. i i i i i.....\n",
        "# D. No Output\n",
        "\n",
        "Answer : # D. No Output\n",
        "\n",
        "\n",
        "# 23. What will be the output of the following code?\n",
        "\n",
        "# x = \"abcd\"\n",
        "\n",
        "# for i in range(len(x)):\n",
        "\n",
        "#     print(i)\n",
        "# A. abcd\n",
        "# B. 0 1 2 3\n",
        "# C. 1 2 3 4\n",
        "# D. a b c d\n",
        "\n",
        "Answer : # B. 0 1 2 3\n",
        "\n",
        "# 24. What will be the output of the following code?\n",
        "\n",
        "# x = 12\n",
        "\n",
        "# for i in x:\n",
        "\n",
        "#     print(i)\n",
        "\n",
        "# A. 12\n",
        "# B. 1 2\n",
        "# C. Error\n",
        "# D. None of the above\n",
        "\n",
        "Answer: # C. Error\n",
        "\n",
        "# 25. A loop becomes infinite loop if a condition never becomes ________.\n",
        "\n",
        "# A. TRUE\n",
        "# B. FALSE\n",
        "# C. Null\n",
        "# D. Both A and C\n",
        "\n",
        "Answer : # B. FALSE\n",
        "\n",
        "# 26. If the else statement is used with a while loop, the else statement is executed when the condition becomes _______.\n",
        "\n",
        "# A. TRUE\n",
        "# B. FALSE\n",
        "# C. Infinite\n",
        "# D. Null\n",
        "\n",
        "Answer : # B. FALSE\n",
        "\n",
        "# 27. Python programming language allows to use one loop inside another loop known as?\n",
        "\n",
        "# A. switch\n",
        "# B. foreach\n",
        "# C. nested\n",
        "# D. forall\n",
        "\n",
        "Answer : # C. nested\n",
        "\n",
        "\n",
        "# 28. The ________ statement is a null operation.\n",
        "\n",
        "# A. break\n",
        "# B. exit\n",
        "# C. return\n",
        "# D. pass\n",
        "\n",
        "Answer: # D. pass\n",
        "\n",
        "# 29. The continue statement can be used in?\n",
        "\n",
        "# A. while loop\n",
        "# B. for loop\n",
        "# C. do-while\n",
        "# D. Both A and B\n",
        "\n",
        "Answer : # D. Both A and B\n",
        "\n",
        "\n",
        "# 30)What will be the output of the following code?\n",
        "\n",
        "# x = 12\n",
        "\n",
        "# for i in x:\n",
        "\n",
        "#     print(i)\n",
        "\n",
        "# (A) 12\n",
        "# (B) 1 2\n",
        "# (C) Error\n",
        "# (D) None of the above\n",
        "\n",
        "Answer : # (C) Error"
      ],
      "metadata": {
        "id": "A8yRPEZSMqxX"
      },
      "execution_count": null,
      "outputs": []
    },
    {
      "cell_type": "code",
      "source": [
        "# **For Loop:**"
      ],
      "metadata": {
        "id": "PP8Je2ybVVcA"
      },
      "execution_count": null,
      "outputs": []
    },
    {
      "cell_type": "code",
      "source": [
        "# 1. Write a program to print numbers from 1 to 10 using a for loop.\n",
        "\n",
        "for i in range(1,11):\n",
        "  print(i)"
      ],
      "metadata": {
        "colab": {
          "base_uri": "https://localhost:8080/"
        },
        "id": "31-swpvMVYRz",
        "outputId": "e33c7f54-a300-4062-f876-9b77bfb39efa"
      },
      "execution_count": null,
      "outputs": [
        {
          "output_type": "stream",
          "name": "stdout",
          "text": [
            "1\n",
            "2\n",
            "3\n",
            "4\n",
            "5\n",
            "6\n",
            "7\n",
            "8\n",
            "9\n",
            "10\n"
          ]
        }
      ]
    },
    {
      "cell_type": "code",
      "source": [
        "# 2. Write a program to print the sum of all numbers from 1 to 100 using a for loop.\n",
        "sum=0\n",
        "for i in range(1,101):\n",
        "  sum=sum+i\n",
        "print(\"Sum of numbers from 1 to 100 is {}\".format(sum))"
      ],
      "metadata": {
        "colab": {
          "base_uri": "https://localhost:8080/"
        },
        "id": "4NiZ08S_VkEm",
        "outputId": "e6f3e236-f317-4c83-cd02-b7d78e818915"
      },
      "execution_count": null,
      "outputs": [
        {
          "output_type": "stream",
          "name": "stdout",
          "text": [
            "Sum of numbers from 1 to 100 is 5050\n"
          ]
        }
      ]
    },
    {
      "cell_type": "code",
      "source": [
        "# 3. Write a program to print the factorial of a number using a for loop.\n",
        "n=int(input(\"Enter number for which factorial has to be calculated:\"))\n",
        "fact=1\n",
        "\n",
        "for i in range (1,n+1):\n",
        "  fact=fact*i\n",
        "print(\"Factorial of {} is {}\".format(n,fact))"
      ],
      "metadata": {
        "colab": {
          "base_uri": "https://localhost:8080/"
        },
        "id": "yGq1ZE2hV6mM",
        "outputId": "e5832418-ee63-4251-8e8f-2ee9f6428da0"
      },
      "execution_count": null,
      "outputs": [
        {
          "output_type": "stream",
          "name": "stdout",
          "text": [
            "Enter number for which factorial has to be calculated:5\n",
            "Factorial of 5 is 120\n"
          ]
        }
      ]
    },
    {
      "cell_type": "code",
      "source": [
        "# 4. Write a program to print the Fibonacci sequence up to a certain number of terms using a for loop.\n",
        "x=0\n",
        "y=1\n",
        "n=int(input(\"Enter a number upto which fibonacci series is to be calculated\"))\n",
        "print(x)\n",
        "print(y)\n",
        "c=2\n",
        "\n",
        "for i in range(c,n+1):\n",
        "  z=x+y\n",
        "  print(z)\n",
        "  x=y\n",
        "  y=z"
      ],
      "metadata": {
        "colab": {
          "base_uri": "https://localhost:8080/"
        },
        "id": "rLCGx0Y3WymJ",
        "outputId": "bca433ab-bc39-469b-da71-63d1f9c87f31"
      },
      "execution_count": null,
      "outputs": [
        {
          "output_type": "stream",
          "name": "stdout",
          "text": [
            "Enter a number upto which fibonacci series is to be calculated5\n",
            "0\n",
            "1\n",
            "1\n",
            "2\n",
            "3\n",
            "5\n"
          ]
        }
      ]
    },
    {
      "cell_type": "code",
      "source": [
        "# 5. Write a program to print the multiplication table of a number using a for loop.\n",
        "\n",
        "n=int(input(\"Enter the number for which multiplication table is required : \"))\n",
        "y=int(input(\"Enter the number till which the multiplication table is required :\"))\n",
        "\n",
        "for i in range (1,y+1):\n",
        "  prod=n*i\n",
        "  print(\"{} * {} = {}\".format(n,i,prod))"
      ],
      "metadata": {
        "colab": {
          "base_uri": "https://localhost:8080/"
        },
        "id": "o7uKS5J6YXRM",
        "outputId": "ac91f4d6-664f-4a0c-f0ab-508a0a62471d"
      },
      "execution_count": null,
      "outputs": [
        {
          "output_type": "stream",
          "name": "stdout",
          "text": [
            "Enter the number for which multiplication table is required : 6\n",
            "Enter the number till which the multiplication table is required :5\n",
            "6 * 1 = 6\n",
            "6 * 2 = 12\n",
            "6 * 3 = 18\n",
            "6 * 4 = 24\n",
            "6 * 5 = 30\n"
          ]
        }
      ]
    },
    {
      "cell_type": "code",
      "source": [
        "# 6. Write a program to find the greatest common divisor (GCD) of two numbers using a for loop.\n",
        "\n",
        "a = int(input(\"Enter the first number: \"))\n",
        "b = int(input(\"Enter the second number: \"))\n",
        "\n",
        "gcd = 1\n",
        "\n",
        "for i in range(1, min(a, b) + 1):\n",
        "    if a % i == 0 and b % i == 0:\n",
        "        gcd = i\n",
        "\n",
        "print(f\"The GCD of {a} and {b} is {gcd}\")"
      ],
      "metadata": {
        "colab": {
          "base_uri": "https://localhost:8080/"
        },
        "id": "-6i0Eht7Zhph",
        "outputId": "5f38d399-c497-4b06-c306-297046d2f71b"
      },
      "execution_count": null,
      "outputs": [
        {
          "output_type": "stream",
          "name": "stdout",
          "text": [
            "Enter the first number: 4\n",
            "Enter the second number: 5\n",
            "The GCD of 4 and 5 is 1\n"
          ]
        }
      ]
    },
    {
      "cell_type": "code",
      "source": [
        "# 7. Write a program to find the least common multiple (LCM) of two numbers using a for loop.\n",
        "\n",
        "a = int(input(\"Enter the first number: \"))\n",
        "b = int(input(\"Enter the second number: \"))\n",
        "\n",
        "lcm = max(a, b)\n",
        "\n",
        "while True:\n",
        "    if lcm % a == 0 and lcm % b == 0:\n",
        "        break\n",
        "    lcm += 1\n",
        "\n",
        "print(f\"The LCM of {a} and {b} is {lcm}\")"
      ],
      "metadata": {
        "colab": {
          "base_uri": "https://localhost:8080/"
        },
        "id": "imnEIqxHaEWX",
        "outputId": "86960c62-1c89-47c9-bb37-50757fbd33f6"
      },
      "execution_count": null,
      "outputs": [
        {
          "output_type": "stream",
          "name": "stdout",
          "text": [
            "Enter the first number: 6\n",
            "Enter the second number: 8\n",
            "The LCM of 6 and 8 is 24\n"
          ]
        }
      ]
    },
    {
      "cell_type": "code",
      "source": [
        "# 8. Write a program to check if a number is prime or not using a for loop.\n",
        "n = int(input(\"Enter your number: \"))\n",
        "for i in range(2,n+1):\n",
        "  if n%i == 0:\n",
        "    break\n",
        "\n",
        "if i==n:\n",
        "  print(n,\" It is a Prime number\")\n",
        "else:\n",
        "  print(n, \"It is Not a Prime number\")"
      ],
      "metadata": {
        "colab": {
          "base_uri": "https://localhost:8080/"
        },
        "id": "U6T6ytG3anL6",
        "outputId": "31eec979-9e85-4aee-ecb6-1bf2482a75bb"
      },
      "execution_count": null,
      "outputs": [
        {
          "output_type": "stream",
          "name": "stdout",
          "text": [
            "Enter your number: 7\n",
            "7  It is a Prime nos\n"
          ]
        }
      ]
    },
    {
      "cell_type": "code",
      "source": [
        "# 9. Write a program to find all the factors of a number using a for loop.\n",
        "number = int(input(\"Enter a number: \"))\n",
        "\n",
        "print(f\"The factors of {number} are:\")\n",
        "for i in range(1, number + 1):\n",
        "    if number % i == 0:\n",
        "        print(i)"
      ],
      "metadata": {
        "colab": {
          "base_uri": "https://localhost:8080/"
        },
        "id": "v8j_jDIvbB4-",
        "outputId": "729a705b-fd18-4813-cf20-f99860032741"
      },
      "execution_count": null,
      "outputs": [
        {
          "output_type": "stream",
          "name": "stdout",
          "text": [
            "Enter a number: 6\n",
            "The factors of 6 are:\n",
            "1\n",
            "2\n",
            "3\n",
            "6\n"
          ]
        }
      ]
    },
    {
      "cell_type": "code",
      "source": [
        "# 10. Write a program to print the pattern of a right triangle using a for loop.\n",
        "r=int(input(\"Enter the number of rows required in right angled triangle: \"))\n",
        "for i in range (1,r+1):\n",
        "  for j in range (1,i+1):\n",
        "    print(\"*\",end = \" \")\n",
        "  print()"
      ],
      "metadata": {
        "id": "7-HaSGEPVOyO",
        "colab": {
          "base_uri": "https://localhost:8080/"
        },
        "outputId": "a80bac38-daa6-4ce8-838a-6aaadc2fb849"
      },
      "execution_count": null,
      "outputs": [
        {
          "output_type": "stream",
          "name": "stdout",
          "text": [
            "Enter the number of rows required in right angled triangle: 8\n",
            "* \n",
            "* * \n",
            "* * * \n",
            "* * * * \n",
            "* * * * * \n",
            "* * * * * * \n",
            "* * * * * * * \n",
            "* * * * * * * * \n"
          ]
        }
      ]
    },
    {
      "cell_type": "code",
      "source": [
        "# **While Loop:**"
      ],
      "metadata": {
        "id": "mr_vqn8HbdG5"
      },
      "execution_count": null,
      "outputs": []
    },
    {
      "cell_type": "code",
      "source": [
        "# 1. Write a program to print numbers from 1 to 10 using a for loop.\n",
        "\n",
        "i=1\n",
        "while(i<=10):\n",
        "  print(i)\n",
        "  i=i+1"
      ],
      "metadata": {
        "colab": {
          "base_uri": "https://localhost:8080/"
        },
        "id": "qDPwipKNg_Cm",
        "outputId": "fc4f83a1-2b85-4cf6-c2ce-c8291f8f82ad"
      },
      "execution_count": 40,
      "outputs": [
        {
          "output_type": "stream",
          "name": "stdout",
          "text": [
            "1\n",
            "2\n",
            "3\n",
            "4\n",
            "5\n",
            "6\n",
            "7\n",
            "8\n",
            "9\n",
            "10\n"
          ]
        }
      ]
    },
    {
      "cell_type": "code",
      "source": [
        "# 2. Write a program to print the sum of all numbers from 1 to 100 using a while loop.\n",
        "sum=0\n",
        "i=1\n",
        "while(i<=100):\n",
        "  sum=sum+i\n",
        "  i=i+1\n",
        "\n",
        "print(f\"Sum of numbers from 1 to 100 is {sum}\")"
      ],
      "metadata": {
        "colab": {
          "base_uri": "https://localhost:8080/"
        },
        "id": "Ig-2JVC6g_nV",
        "outputId": "74f22c20-36e3-4f69-8a98-d6b1c9bc9754"
      },
      "execution_count": 43,
      "outputs": [
        {
          "output_type": "stream",
          "name": "stdout",
          "text": [
            "Sum of numbers from 1 to 100 is 5050\n"
          ]
        }
      ]
    },
    {
      "cell_type": "code",
      "source": [
        "# 3. Write a program to print the factorial of a number using a while loop.\n",
        "\n",
        "\n",
        "n=int(input(\"Enter number for which factorial has to be calculated\"))\n",
        "fact=1\n",
        "i=1\n",
        "\n",
        "while(i<=n):\n",
        "  fact=fact*i\n",
        "  i=i+1\n",
        "\n",
        "print(f\"Factprial of {n} is {fact}\")"
      ],
      "metadata": {
        "colab": {
          "base_uri": "https://localhost:8080/"
        },
        "id": "CusNcbvah19c",
        "outputId": "b1482739-48f0-4e85-ff5e-31e641a5260f"
      },
      "execution_count": 44,
      "outputs": [
        {
          "output_type": "stream",
          "name": "stdout",
          "text": [
            "Enter number for which factorial has to be calculated5\n",
            "Factprial of 5 is 120\n"
          ]
        }
      ]
    },
    {
      "cell_type": "code",
      "source": [
        "# 4. Write a program to print the Fibonacci sequence up to a certain number of terms using a while loop.\n",
        "x = 0\n",
        "y = 1\n",
        "\n",
        "n = int(input(\"Enter a number upto which Fibonacci series is to be calculated: \"))\n",
        "print(x)\n",
        "print(y)\n",
        "c = 2\n",
        "\n",
        "while c < n:\n",
        "    z = x + y\n",
        "    print(z)\n",
        "    x = y\n",
        "    y = z\n",
        "    c=c+1"
      ],
      "metadata": {
        "colab": {
          "base_uri": "https://localhost:8080/"
        },
        "id": "UIoa9yCKiMEn",
        "outputId": "6d99f164-0c78-4d70-d428-e282426e1743"
      },
      "execution_count": 45,
      "outputs": [
        {
          "output_type": "stream",
          "name": "stdout",
          "text": [
            "Enter a number upto which Fibonacci series is to be calculated: 6\n",
            "0\n",
            "1\n",
            "1\n",
            "2\n",
            "3\n",
            "5\n"
          ]
        }
      ]
    },
    {
      "cell_type": "code",
      "source": [
        "# 5. Write a program to print the multiplication table of a number using a while loop.\n",
        "n=int(input(\"Enter a number for which multiplication table has to be generated\"))\n",
        "t=int(input(\"Enter number upto which multiplication table has to be generated\"))\n",
        "i=1\n",
        "while(i<=t):\n",
        "  product=n*i\n",
        "  print(\"{} * {} = {}\".format(n,i,product))\n",
        "  i+=1\n"
      ],
      "metadata": {
        "colab": {
          "base_uri": "https://localhost:8080/"
        },
        "id": "vl1p_QZPi3Oa",
        "outputId": "11a18e74-7d8b-420f-8d6d-ad25a6a0e26e"
      },
      "execution_count": 46,
      "outputs": [
        {
          "output_type": "stream",
          "name": "stdout",
          "text": [
            "Enter a number for which multiplication table has to be generated5\n",
            "Enter number upto which multiplication table has to be generated10\n",
            "5 * 1 = 5\n",
            "5 * 2 = 10\n",
            "5 * 3 = 15\n",
            "5 * 4 = 20\n",
            "5 * 5 = 25\n",
            "5 * 6 = 30\n",
            "5 * 7 = 35\n",
            "5 * 8 = 40\n",
            "5 * 9 = 45\n",
            "5 * 10 = 50\n"
          ]
        }
      ]
    },
    {
      "cell_type": "code",
      "source": [
        "# 6. Write a program to find the greatest common divisor (GCD) of two numbers using a while loop.\n",
        "\n",
        "a = int(input(\"Enter the first number: \"))\n",
        "b = int(input(\"Enter the second number: \"))\n",
        "\n",
        "while a != b:\n",
        "    if a > b:\n",
        "        a -= b\n",
        "    else:\n",
        "        b -= a\n",
        "\n",
        "print(f\"The GCD is {a}\")"
      ],
      "metadata": {
        "colab": {
          "base_uri": "https://localhost:8080/"
        },
        "id": "Wq36LurujY0g",
        "outputId": "6fdd3121-fd74-4a82-8a5c-8fd25278a023"
      },
      "execution_count": 48,
      "outputs": [
        {
          "output_type": "stream",
          "name": "stdout",
          "text": [
            "Enter the first number: 3\n",
            "Enter the second number: 4\n",
            "The GCD is 1\n"
          ]
        }
      ]
    },
    {
      "cell_type": "code",
      "source": [
        "# 7. Write a program to find the least common multiple (LCM) of two numbers using a while loop.\n",
        "a = int(input(\"Enter the first number: \"))\n",
        "b = int(input(\"Enter the second number: \"))\n",
        "\n",
        "max_num = max(a, b)\n",
        "\n",
        "lcm = max_num\n",
        "\n",
        "while True:\n",
        "    if lcm % a == 0 and lcm % b == 0:\n",
        "        break\n",
        "    lcm += max_num\n",
        "5\n",
        "print(f\"The LCM of {a} and {b} is {lcm}\")"
      ],
      "metadata": {
        "colab": {
          "base_uri": "https://localhost:8080/"
        },
        "id": "zFpiPVHXkF-S",
        "outputId": "cfca780a-7963-49a2-bdf3-c6a666b6fbb6"
      },
      "execution_count": 49,
      "outputs": [
        {
          "output_type": "stream",
          "name": "stdout",
          "text": [
            "Enter the first number: 4\n",
            "Enter the second number: 5\n",
            "The LCM of 4 and 5 is 20\n"
          ]
        }
      ]
    },
    {
      "cell_type": "code",
      "source": [
        "# 8. Write a program to check if a number is prime or not using a while loop.\n",
        "\n",
        "n = int(input(\"Enter your number: \"))\n",
        "i=2\n",
        "while(i<=n):\n",
        "  if n%i == 0:\n",
        "    break\n",
        "  i=i+1\n",
        "\n",
        "\n",
        "if i==n:\n",
        "  print(n,\" It is a Prime number\")\n",
        "else:\n",
        "  print(n, \"It is Not a Prime number\")"
      ],
      "metadata": {
        "colab": {
          "base_uri": "https://localhost:8080/"
        },
        "id": "zcJPdPDckaTx",
        "outputId": "16f182af-5824-44e3-e992-f0d9a10b916d"
      },
      "execution_count": 52,
      "outputs": [
        {
          "output_type": "stream",
          "name": "stdout",
          "text": [
            "Enter your number: 9\n",
            "9 It is Not a Prime number\n"
          ]
        }
      ]
    },
    {
      "cell_type": "code",
      "source": [
        "# 9. Write a program to find all the factors of a number using a for loop.\n",
        "number = int(input(\"Enter a number: \"))\n",
        "\n",
        "print(f\"The factors of {number} are:\")\n",
        "i=1\n",
        "while(i<=number):\n",
        "    if number % i == 0:\n",
        "        print(i)\n",
        "    i=i+1"
      ],
      "metadata": {
        "colab": {
          "base_uri": "https://localhost:8080/"
        },
        "id": "uwLRWxtElaMw",
        "outputId": "349339f4-7e46-4b97-9fd6-21fda38e153e"
      },
      "execution_count": 55,
      "outputs": [
        {
          "output_type": "stream",
          "name": "stdout",
          "text": [
            "Enter a number: 5\n",
            "The factors of 5 are:\n",
            "1\n",
            "5\n"
          ]
        }
      ]
    },
    {
      "cell_type": "code",
      "source": [
        "# 10. Write a program to print the pattern of a right triangle using a for loop.\n",
        "n=int(input(\"Enter the number of rows required in right angled triangle\"))\n",
        "i=1\n",
        "while(i<=n):\n",
        "  j=1\n",
        "  while(j<=i):\n",
        "    print(\"*\",end='')\n",
        "    j=j+1\n",
        "  print()\n",
        "  i=i+1"
      ],
      "metadata": {
        "colab": {
          "base_uri": "https://localhost:8080/"
        },
        "id": "5u__6KUkg-Ln",
        "outputId": "42b640ad-4a0d-4461-ae03-2b01281f48ec"
      },
      "execution_count": 56,
      "outputs": [
        {
          "output_type": "stream",
          "name": "stdout",
          "text": [
            "Enter the number of rows required in right angled triangle10\n",
            "*\n",
            "**\n",
            "***\n",
            "****\n",
            "*****\n",
            "******\n",
            "*******\n",
            "********\n",
            "*********\n",
            "**********\n"
          ]
        }
      ]
    },
    {
      "cell_type": "code",
      "source": [
        "# prompt: Create three MCQS Questions on above topics having four options in it\n",
        "\n",
        "**MCQ 1:**\n",
        "\n",
        "Which of the following is not a valid for loop in Python?\n",
        "\n",
        "(A) for i in range(5):\n",
        "(B) for i in range(0,5):\n",
        "(C) for i in range(0,5,1):\n",
        "(D) for i in range(5,0,-1):\n",
        "\n",
        "\n",
        "**MCQ 2:**\n",
        "\n",
        "What will be the output of the following code?\n",
        "\n",
        "x = \"abcdef\"\n",
        "\n",
        "for i in range(len(x)):\n",
        "\n",
        "    print(i)\n",
        "\n",
        "(A) abcd\n",
        "(B) 0 1 2 3\n",
        "(C) 1 2 3 4\n",
        "(D) a b c d\n",
        "\n",
        "\n",
        "**MCQ 3:**\n",
        "\n",
        "What will be the output of the following code?\n",
        "\n",
        "x = 12\n",
        "\n",
        "for i in x:\n",
        "\n",
        "    print(i)\n",
        "\n",
        "(A) 12\n",
        "(B) 1 2\n",
        "(C) Error\n",
        "(D) None of the above\n"
      ],
      "metadata": {
        "id": "5WRhKsy2V7VW"
      },
      "execution_count": null,
      "outputs": []
    },
    {
      "cell_type": "code",
      "source": [
        "questions = [\n",
        "    {\n",
        "        \"question\": \"Which of the following is not a valid for loop in Python?\",\n",
        "        \"options\": [\n",
        "            \"A. for i in range(5):\",\n",
        "            \"B. for i in range(0, 5):\",\n",
        "            \"C. for i in range(0, 5, 1):\",\n",
        "            \"D. for i in range(5, 0, -1):\"\n",
        "        ]\n",
        "    },\n",
        "    {\n",
        "        \"question\": \"What is the output of the following code?\\n x = abcdef\\n    for i in range(len(x)):\\n       print(i)\",\n",
        "        \"options\": [\n",
        "            \"(A) abcd\",\n",
        "            \"(B) 0 1 2 3\",\n",
        "            \"(C) 1 2 3 4\",\n",
        "            \"(D) a b c d\"\n",
        "        ]\n",
        "    },\n",
        "    {\n",
        "        \"question\": \"What will be the output of the following code?\\n   x = 12\\nfor i in x:\\n  print(i)\",\n",
        "        \"options\": [\n",
        "            \" (A) 12\",\n",
        "            \"(B) 1 2\",\n",
        "            \"(C) Error\",\n",
        "            \"(D) None of the above\"\n",
        "        ]\n",
        "    }\n",
        "]\n",
        "\n",
        "# Printing the questions and options\n",
        "mcq_number = 1\n",
        "for question in questions:\n",
        "    print(f\"MCQ {mcq_number}:\")\n",
        "    print(question[\"question\"])\n",
        "    for option in question[\"options\"]:\n",
        "        print(option)\n",
        "    print()\n",
        "    mcq_number += 1"
      ],
      "metadata": {
        "colab": {
          "base_uri": "https://localhost:8080/"
        },
        "id": "KHadOL_QUfDX",
        "outputId": "dd011c6e-cad3-40e4-c9bb-6a8a97fff00e"
      },
      "execution_count": null,
      "outputs": [
        {
          "output_type": "stream",
          "name": "stdout",
          "text": [
            "MCQ 1:\n",
            "Which of the following is not a valid for loop in Python?\n",
            "A. for i in range(5):\n",
            "B. for i in range(0, 5):\n",
            "C. for i in range(0, 5, 1):\n",
            "D. for i in range(5, 0, -1):\n",
            "\n",
            "MCQ 2:\n",
            "What is the output of the following code?\n",
            " x = abcdef\n",
            "    for i in range(len(x)):\n",
            "       print(i)\n",
            "(A) abcd\n",
            "(B) 0 1 2 3\n",
            "(C) 1 2 3 4\n",
            "(D) a b c d\n",
            "\n",
            "MCQ 3:\n",
            "What will be the output of the following code?\n",
            "   x = 12\n",
            "for i in x:\n",
            "  print(i)\n",
            " (A) 12\n",
            "(B) 1 2\n",
            "(C) Error\n",
            "(D) None of the above\n",
            "\n"
          ]
        }
      ]
    },
    {
      "cell_type": "code",
      "source": [],
      "metadata": {
        "id": "1jE4caO_g548"
      },
      "execution_count": null,
      "outputs": []
    }
  ]
}