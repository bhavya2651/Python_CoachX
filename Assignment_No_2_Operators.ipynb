{
  "nbformat": 4,
  "nbformat_minor": 0,
  "metadata": {
    "colab": {
      "provenance": []
    },
    "kernelspec": {
      "name": "python3",
      "display_name": "Python 3"
    },
    "language_info": {
      "name": "python"
    }
  },
  "cells": [
    {
      "cell_type": "code",
      "execution_count": null,
      "metadata": {
        "colab": {
          "base_uri": "https://localhost:8080/"
        },
        "id": "sj-i6tfhCPCK",
        "outputId": "eff915ab-aacc-4946-dfb2-1cb45ae985e6"
      },
      "outputs": [
        {
          "output_type": "stream",
          "name": "stdout",
          "text": [
            "Enter number for which square root is required:16\n",
            "The square root of entered number 16 is 4.0\n"
          ]
        }
      ],
      "source": [
        "#Question-1\n",
        "# Program to find the Square root of a number\n",
        "\n",
        "number = int(input(\"Enter number for which square root is required:\"))\n",
        "sq_root= number**0.5\n",
        "print(\"The square root of entered number {} is {}\".format(number,sq_root))"
      ]
    },
    {
      "cell_type": "code",
      "source": [
        "#Question-2\n",
        "# Program to find the area of rectangle\n",
        "\n",
        "length = int(input(\"Enter lenght:\"))\n",
        "breadth = int(input(\"Enter breadth:\"))\n",
        "area = length*breadth\n",
        "print (\"Area of rectangle is {} X {} = {}\".format(length,breadth,area))"
      ],
      "metadata": {
        "colab": {
          "base_uri": "https://localhost:8080/"
        },
        "id": "_zZCVKfgEI9v",
        "outputId": "c163a490-ef74-4c58-a527-bfd771cc0106"
      },
      "execution_count": null,
      "outputs": [
        {
          "output_type": "stream",
          "name": "stdout",
          "text": [
            "Enter lenght:12\n",
            "Enter breadth:6\n",
            "Area of rectangle is 12 X 6 = 72\n"
          ]
        }
      ]
    },
    {
      "cell_type": "code",
      "source": [
        "#Question-3\n",
        "# Program to calculate the area  and Perimeter of the Square\n",
        "\n",
        "side = int(input(\"Enter side of square : \"))\n",
        "area = side*side\n",
        "perimeter = 4*side\n",
        "print(\"Area of sqaure is {} X {} = {}\".format(side,side,area))\n",
        "print(\"Perimeter of sqaure is 4 x {} = {}\".format(side,perimeter))"
      ],
      "metadata": {
        "colab": {
          "base_uri": "https://localhost:8080/"
        },
        "id": "OOpVllqYEupq",
        "outputId": "bf6d3311-7eb6-43c1-c13a-05d4d4bb3ac5"
      },
      "execution_count": null,
      "outputs": [
        {
          "output_type": "stream",
          "name": "stdout",
          "text": [
            "Enter side of square : 5\n",
            "Area of sqaure is 5 X 5 = 25\n",
            "Perimeter of sqaure is 4 x 5 = 20\n"
          ]
        }
      ]
    },
    {
      "cell_type": "code",
      "source": [
        "#Question-4\n",
        "# program to Calculate Surface Volumne and Area of Cylinder\n",
        "\n",
        "radius = int(input(\"Enter radius : \"))\n",
        "height = int(input(\"Enter height : \"))\n",
        "area = (2*3.14*radius*radius) + (2*3.14*radius*height)\n",
        "volume = 3.14*radius*radius*height\n",
        "print(\"Surface Volume is : \",volume)\n",
        "print(\"Area is: \",area)"
      ],
      "metadata": {
        "colab": {
          "base_uri": "https://localhost:8080/"
        },
        "id": "2na8WXA4FlLe",
        "outputId": "0a73557f-aaeb-4743-b64f-3a697dab18e2"
      },
      "execution_count": null,
      "outputs": [
        {
          "output_type": "stream",
          "name": "stdout",
          "text": [
            "Enter radius : 4\n",
            "Enter height : 6\n",
            "Surface Volume is :  301.44\n",
            "Area is:  251.2\n"
          ]
        }
      ]
    },
    {
      "cell_type": "code",
      "source": [
        "#Question-5\n",
        "# Program to swap the values of Two Variables\n",
        "\n",
        "a=int(input(\"Enter 1st Number a: \"))\n",
        "b=int(input(\"Enter 2nd Number b: \"))\n",
        "print(\"1st number before swapping is \",a)\n",
        "print(\"2nd number before swapping is \",b)\n",
        "c=a\n",
        "a=b\n",
        "b=c\n",
        "print (\"1st number after swapping is \",a)\n",
        "print(\"2nd number after swapping is\",b)"
      ],
      "metadata": {
        "colab": {
          "base_uri": "https://localhost:8080/"
        },
        "id": "3Td-Lkl5C8pA",
        "outputId": "6b5d56b5-85a5-4850-dab8-41632481202d"
      },
      "execution_count": null,
      "outputs": [
        {
          "output_type": "stream",
          "name": "stdout",
          "text": [
            "Enter 1st Number a: 30\n",
            "Enter 2nd Number b: 40\n",
            "1st number before swapping is  30\n",
            "2nd number before swapping is  40\n",
            "1st number after swapping is  40\n",
            "2nd number after swapping is 30\n"
          ]
        }
      ]
    },
    {
      "cell_type": "code",
      "source": [
        "#Question-6\n",
        "# Write Logical operators conditions with taking two variables\n",
        "\n",
        "a= int(input(\"Enter your first number 1/0 : \\n\"))\n",
        "b= int(input(\"Enter your second number 1/0: \\n\"))\n",
        "\n",
        "c=a and b;\n",
        "d=a or b;\n",
        "e= not a;\n",
        "f= not b;\n",
        "\n",
        "print(\"Logical AND condition {} AND {} returns {}\".format(a,b,c))\n",
        "print(\"Logical OR condition {} OR {} returns {}\".format(a,b,d))\n",
        "print(\"Logical NOT condition NOT {} returns {}\".format(a,e))\n",
        "print(\"Logical NOT condition NOT {} returns {}\".format(b,f))\n"
      ],
      "metadata": {
        "id": "-lqSGILrCUbu",
        "colab": {
          "base_uri": "https://localhost:8080/"
        },
        "outputId": "5cd0dbda-3381-406b-c01a-9e3cb55968bf"
      },
      "execution_count": 2,
      "outputs": [
        {
          "output_type": "stream",
          "name": "stdout",
          "text": [
            "Enter your first number 1/0 : \n",
            "1\n",
            "Enter your second number 1/0: \n",
            "0\n",
            "Logical AND condition 1 AND 0 returns 0\n",
            "Logical OR condition 1 OR 0 returns 1\n",
            "Logical NOT condition NOT 1 returns False\n",
            "Logical NOT condition NOT 0 returns True\n"
          ]
        }
      ]
    }
  ]
}