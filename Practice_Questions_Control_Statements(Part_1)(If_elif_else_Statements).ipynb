{
  "nbformat": 4,
  "nbformat_minor": 0,
  "metadata": {
    "colab": {
      "provenance": []
    },
    "kernelspec": {
      "name": "python3",
      "display_name": "Python 3"
    },
    "language_info": {
      "name": "python"
    }
  },
  "cells": [
    {
      "cell_type": "code",
      "source": [
        "#Practice   Assignment Questions:\n",
        "\n",
        "\n",
        "# Write a Program to generate the Students Result . Accept the marks of five subjects from the user and display the result\n",
        "# according to following conditions\n",
        "\n",
        "# Percentage                         Division\n",
        "# >=75                          First Class with Distinction\n",
        "# >=60 and <75                     First Class\n",
        "# >=50 and <60                     Second Class\n",
        "# >=35 and <50                      Third Class\n",
        "# <35                               Fail\n",
        "\n",
        "\n",
        "s1 = int(input(\"Enter marks of Maths out of 100:     \"))\n",
        "s2 = int(input(\"Enter marks of Physics out of 100:   \"))\n",
        "s3 = int(input(\"Enter marks of Chemistry out of 100: \"))\n",
        "s4 = int(input(\"Enter marks of English out of 100:   \"))\n",
        "s5 = int(input(\"Enter marks of Computer out of 100:  \"))\n",
        "\n",
        "total= (s1+s2+s3+s4+s5)\n",
        "percent = (total/500)*100;\n",
        "\n",
        "if percent>=75:\n",
        "  print(\"Your total marks are {}/500 and Percent is {}%. \\nYour division is First Class with Distinction\".format(total,percent))\n",
        "elif percent>=60 and percent<75:\n",
        "  print(\"Your total marks are {}/500 and Percent is {}%. \\nYour division is First Class\".format(total,percent))\n",
        "elif percent>=50 and percent<60:\n",
        "  print(\"Your total marks are {}/500 and Percent is {}%. \\nYour division is Second Class\".format(total,percent))\n",
        "elif percent>=35 and percent<50:\n",
        "  print(\"Your total marks are {}/500 and Percent is {}%. \\nYour division is Third Class\".format(total,percent))\n",
        "else:\n",
        "  print(\"Your total marks are {}/500 and Percent is {}%. \\nYou are Fail\".format(total,percent))\n"
      ],
      "metadata": {
        "id": "yi5KIjoBGNF9",
        "colab": {
          "base_uri": "https://localhost:8080/"
        },
        "outputId": "74e6d15d-05f4-4426-875c-87d48df5cabf"
      },
      "execution_count": null,
      "outputs": [
        {
          "output_type": "stream",
          "name": "stdout",
          "text": [
            "Enter marks of Maths out of 100:     45\n",
            "Enter marks of Physics out of 100:   78\n",
            "Enter marks of Chemistry out of 100: 89\n",
            "Enter marks of English out of 100:   84\n",
            "Enter marks of Computer out of 100:  63\n",
            "Your total marks are 359/500 and Percent is 71.8%. \n",
            "Your division is First Class\n"
          ]
        }
      ]
    },
    {
      "cell_type": "code",
      "source": [
        "# Write a program to perform the All the Arithmetic Operations of two numbers and\n",
        "# nos you are accepting from user  and as well as Operator(Mini Calculator)\n",
        "\n",
        "n1 = float(input(\"Enter 1st Number: \"))\n",
        "n2 = float(input(\"Enter 2nd Number: \"))\n",
        "opr = input(\"Enter your arithmetic operator\\n(+,-,*,/,%,**,//): \")\n",
        "\n",
        "add= n1+n2\n",
        "subtract =n1-n2\n",
        "product = n1*n2\n",
        "division= n1/n2\n",
        "modulus = n1%n2\n",
        "exponent = n1**n2\n",
        "floor_div = n1//n2\n",
        "if opr== ('+'):\n",
        "  print ('{} + {} = {}'.format(n1,n2,add))\n",
        "elif opr==('-'):\n",
        "  print('{} - {} = {}'.format(n1,n2,subtract))\n",
        "elif opr==('*'):\n",
        "  print('{} * {} = {}'.format(n1,n2,product))\n",
        "elif opr==('/'):\n",
        "  print('{} / {} = {}'.format(n1,n2,division))\n",
        "elif opr==('%'):\n",
        "  print('{} % {} = {}'.format(n1,n2,modulus))\n",
        "elif opr==('**'):\n",
        "  print('{} ** {} = {}'.format(n1,n2,exponent))\n",
        "elif opr==('//'):\n",
        "  print('{} // {} = {}'.format(n1,n2,floor_div))\n",
        "else:\n",
        "  print(\"Invalid Arithmetic Operator\")\n",
        "\n",
        "\n"
      ],
      "metadata": {
        "id": "SISKkxBpIhir",
        "colab": {
          "base_uri": "https://localhost:8080/"
        },
        "outputId": "956e308c-bc8c-4410-bc11-77ae2a6941de"
      },
      "execution_count": 3,
      "outputs": [
        {
          "output_type": "stream",
          "name": "stdout",
          "text": [
            "Enter 1st Number: 12\n",
            "Enter 2nd Number: 10\n",
            "Enter your arithmetic operator\n",
            "(+,-,*,/,%,**,//): *\n",
            "12.0 * 10.0 = 120.0\n"
          ]
        }
      ]
    }
  ]
}