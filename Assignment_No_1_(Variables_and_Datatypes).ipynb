{
  "nbformat": 4,
  "nbformat_minor": 0,
  "metadata": {
    "colab": {
      "provenance": []
    },
    "kernelspec": {
      "name": "python3",
      "display_name": "Python 3"
    },
    "language_info": {
      "name": "python"
    }
  },
  "cells": [
    {
      "cell_type": "code",
      "execution_count": null,
      "metadata": {
        "colab": {
          "base_uri": "https://localhost:8080/"
        },
        "id": "X4H0kBtJ5o_-",
        "outputId": "7d821aff-2fed-48fb-e8f7-dd6f0a1e3530"
      },
      "outputs": [
        {
          "output_type": "stream",
          "name": "stdout",
          "text": [
            "1 2 3 4 5\n"
          ]
        }
      ],
      "source": [
        "#Question-1\n",
        "# Create five Numbers  Variables and Assign Some Values in it and display the Output of  that Variables\n",
        "a=1\n",
        "b=2\n",
        "c=3\n",
        "d=4\n",
        "e=5\n",
        "print(a,b,c,d,e)"
      ]
    },
    {
      "cell_type": "code",
      "source": [
        "#Question-2\n",
        "# Create Five String Variables and Assigns Some Values in it and display the Output of that Variables\n",
        "\n",
        "var1=\"Bhavya\"\n",
        "var2=\"Laptop\"\n",
        "var3=\"Keyboard\"\n",
        "var4=\"Mouse\"\n",
        "var5=\"Python\"\n",
        "print(var1,var2,var3,var4,var5)"
      ],
      "metadata": {
        "colab": {
          "base_uri": "https://localhost:8080/"
        },
        "id": "_IwvDjUi6PSz",
        "outputId": "832ae62e-0290-407b-b4d7-c3aae2fcffaa"
      },
      "execution_count": null,
      "outputs": [
        {
          "output_type": "stream",
          "name": "stdout",
          "text": [
            "Bhavya Laptop Keyboard Mouse Python\n"
          ]
        }
      ]
    },
    {
      "cell_type": "code",
      "source": [
        "#Question-3\n",
        "# Store Days of the week  in One Variable\n",
        "\n",
        "days_of_week = (\"Monday\",\"Tuesday\",\"Wednesday\",\"Thursday\",\"Friday\",\"Saturday\",\"Sunday\") #tuple is created to store days of the week\n",
        "print(days_of_week)\n",
        "\n",
        "type(days_of_week)  #data type is tuple"
      ],
      "metadata": {
        "colab": {
          "base_uri": "https://localhost:8080/"
        },
        "id": "9ZGoU5co6wQh",
        "outputId": "1ceb04b7-ed40-40c0-c08b-0629409d7f9e"
      },
      "execution_count": null,
      "outputs": [
        {
          "output_type": "stream",
          "name": "stdout",
          "text": [
            "('Monday', 'Tuesday', 'Wednesday', 'Thursday', 'Friday', 'Saturday', 'Sunday')\n"
          ]
        },
        {
          "output_type": "execute_result",
          "data": {
            "text/plain": [
              "tuple"
            ]
          },
          "metadata": {},
          "execution_count": 9
        }
      ]
    },
    {
      "cell_type": "code",
      "source": [
        "#Question-4\n",
        "# Store at least 10  Floating point Number in one Variable\n",
        "\n",
        "floating_numbers = [2.22,7.88,4.55,3.56,3.67,7.89,34.67,123.67,7.88,9.89]  #list is created to store 10 floating numbers in one variable\n",
        "print(floating_numbers)\n",
        "\n",
        "type(floating_numbers)  #data type is list"
      ],
      "metadata": {
        "colab": {
          "base_uri": "https://localhost:8080/"
        },
        "id": "XLtNnyJk7o_N",
        "outputId": "56bd1383-7707-4b75-9bae-39b61a32190b"
      },
      "execution_count": null,
      "outputs": [
        {
          "output_type": "stream",
          "name": "stdout",
          "text": [
            "[2.22, 7.88, 4.55, 3.56, 3.67, 7.89, 34.67, 123.67, 7.88, 9.89]\n"
          ]
        },
        {
          "output_type": "execute_result",
          "data": {
            "text/plain": [
              "list"
            ]
          },
          "metadata": {},
          "execution_count": 11
        }
      ]
    },
    {
      "cell_type": "code",
      "source": [
        "#Question-5\n",
        "# Create a Dictionary to store the data of Square of the Given Nos upto 10\n",
        "\n",
        "sq_dict={\n",
        "    1:1,\n",
        "    2:4,\n",
        "    3:9,\n",
        "    4:16,\n",
        "    5:25,\n",
        "    6:36,\n",
        "    7:49,\n",
        "    8:64,\n",
        "    9:81,\n",
        "    10:100\n",
        "}\n",
        "\n",
        "print(sq_dict)\n",
        "\n",
        "type(sq_dict)"
      ],
      "metadata": {
        "colab": {
          "base_uri": "https://localhost:8080/"
        },
        "id": "icHo8Oj68SJz",
        "outputId": "10aa859c-91aa-4e38-efe4-5ee1b65ba818"
      },
      "execution_count": null,
      "outputs": [
        {
          "output_type": "stream",
          "name": "stdout",
          "text": [
            "{1: 1, 2: 4, 3: 9, 4: 16, 5: 25, 6: 36, 7: 49, 8: 64, 9: 81, 10: 100}\n"
          ]
        },
        {
          "output_type": "execute_result",
          "data": {
            "text/plain": [
              "dict"
            ]
          },
          "metadata": {},
          "execution_count": 13
        }
      ]
    },
    {
      "cell_type": "code",
      "source": [
        "#Question-6\n",
        "# Create Five SET Variables and Assigns Some Values in it and display the Output of that Variables\n",
        "\n",
        "set_1 =  {1,1,2,3,4,5,\"Bhavya\",\"CoachX\"}\n",
        "set_2 =  {3,6,\"Flower\",\"Saturday\",7.8,4.56}\n",
        "set_3 =  {4,7,\"Vasu\",\"March\",7}\n",
        "set_4 =  {\"t\",\"v\",\"Today\",67895674.56}\n",
        "set_5 =  {\"CoachX\",\"Python\",\"High Level Language\",\"Object Oriented\",\"Interpreted\"}\n",
        "\n",
        "print(set_1,\"\\n\",set_2,\"\\n\",set_3,\"\\n\",set_4,\"\\n\",set_5)  # \"/n\" is used for newline\n",
        "type(set_1)"
      ],
      "metadata": {
        "colab": {
          "base_uri": "https://localhost:8080/"
        },
        "id": "atUjaFeg80cb",
        "outputId": "f1e97824-871f-41f9-9ec1-2c2cb3ef58ef"
      },
      "execution_count": null,
      "outputs": [
        {
          "output_type": "stream",
          "name": "stdout",
          "text": [
            "{1, 2, 3, 4, 5, 'Bhavya', 'CoachX'} \n",
            " {3, 4.56, 6, 7.8, 'Flower', 'Saturday'} \n",
            " {'March', 4, 'Vasu', 7} \n",
            " {'t', 'v', 67895674.56, 'Today'} \n",
            " {'High Level Language', 'Python', 'Object Oriented', 'Interpreted', 'CoachX'}\n"
          ]
        },
        {
          "output_type": "execute_result",
          "data": {
            "text/plain": [
              "set"
            ]
          },
          "metadata": {},
          "execution_count": 20
        }
      ]
    },
    {
      "cell_type": "code",
      "source": [
        "#Question-8\n",
        "# a = 72e3\n",
        "# What is the meaning of a ?\n",
        "\n",
        "a=72e3\n",
        "print(a)\n",
        "type(a)\n",
        "\n",
        "# Answer: Here 'a' is a floating type variable which has been assigned the value 72000.0. Here e3 represent 10^3=1000"
      ],
      "metadata": {
        "colab": {
          "base_uri": "https://localhost:8080/"
        },
        "id": "9Vesz4bp-fxx",
        "outputId": "1997241f-4845-4f51-8151-e53ba4061e99"
      },
      "execution_count": null,
      "outputs": [
        {
          "output_type": "stream",
          "name": "stdout",
          "text": [
            "72000.0\n"
          ]
        },
        {
          "output_type": "execute_result",
          "data": {
            "text/plain": [
              "float"
            ]
          },
          "metadata": {},
          "execution_count": 23
        }
      ]
    },
    {
      "cell_type": "code",
      "source": [
        "#Question-9\n",
        "# b = 72e-5\n",
        "# What is the meaning of a ?\n",
        "\n",
        "b=72e-5\n",
        "print(b)\n",
        "type(b)\n",
        "\n",
        "# Answer: Here 'b' is a floating type variable which has been assigned the value 0.00072. Here e-5 represent 10^(-5)=1/100000"
      ],
      "metadata": {
        "colab": {
          "base_uri": "https://localhost:8080/"
        },
        "id": "GtqY4SrI_R65",
        "outputId": "275935c3-dfaa-4272-f7d7-d8a9c5086ec5"
      },
      "execution_count": null,
      "outputs": [
        {
          "output_type": "stream",
          "name": "stdout",
          "text": [
            "0.00072\n"
          ]
        },
        {
          "output_type": "execute_result",
          "data": {
            "text/plain": [
              "float"
            ]
          },
          "metadata": {},
          "execution_count": 24
        }
      ]
    },
    {
      "cell_type": "code",
      "source": [
        "#Question-10\n",
        "\n",
        "# Create Five different data types of variables and Show the type of the variable:-\n",
        "\n",
        "#1. Number (complex variable)\n",
        "\n",
        "x=7+6j\n",
        "print(type(x))\n",
        "\n",
        "#2. List\n",
        "\n",
        "list_var = [2,4,6,8,'r','t','u']\n",
        "print(type(list_var))\n",
        "\n",
        "#3. Tuple\n",
        "\n",
        "tuple_var = (1,2,'pi','Bhavya')\n",
        "print(type(tuple_var))\n",
        "\n",
        "#4. Dictionary\n",
        "\n",
        "dict_var = {\n",
        "    'a':'Aman',\n",
        "    'b':'Bhavya',\n",
        "    'c':'CoachX'\n",
        "}\n",
        "\n",
        "print(type(dict_var))\n",
        "\n",
        "#5. Set\n",
        "\n",
        "set_var ={4,6,'a','a','a','Tuesday'}\n",
        "print(type(set_var))"
      ],
      "metadata": {
        "colab": {
          "base_uri": "https://localhost:8080/"
        },
        "id": "Rlwh34lt52CQ",
        "outputId": "3bb2e427-5f48-472a-ef66-508c7ae27cc1"
      },
      "execution_count": null,
      "outputs": [
        {
          "output_type": "stream",
          "name": "stdout",
          "text": [
            "<class 'complex'>\n",
            "<class 'list'>\n",
            "<class 'tuple'>\n",
            "<class 'dict'>\n",
            "<class 'set'>\n"
          ]
        }
      ]
    }
  ]
}