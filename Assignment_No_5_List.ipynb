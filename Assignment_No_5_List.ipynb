{
  "nbformat": 4,
  "nbformat_minor": 0,
  "metadata": {
    "colab": {
      "provenance": []
    },
    "kernelspec": {
      "name": "python3",
      "display_name": "Python 3"
    },
    "language_info": {
      "name": "python"
    }
  },
  "cells": [
    {
      "cell_type": "code",
      "source": [
        "# Asssignment Questions\n",
        "\n",
        "# 1. Write a Python program to create a list of N random integers between a specified range.\n",
        "\n",
        "import random\n",
        "\n",
        "lower = int(input(\"Enter the lower limit of the range : \"))\n",
        "upper = int(input(\"Enter the upper limit of the range : \"))\n",
        "N=      int(input(\"Enter the number of randoms numbers required in the list : \"))\n",
        "\n",
        "lst=[random.randint(lower,upper) for i in range(N)]\n",
        "print (\"List of N random numbers between a specified range is\",lst)\n",
        "\n"
      ],
      "metadata": {
        "id": "7Ht1Ii1lcTOu",
        "colab": {
          "base_uri": "https://localhost:8080/"
        },
        "outputId": "dcf4e926-8c5a-40bd-b8b1-576201b30392"
      },
      "execution_count": null,
      "outputs": [
        {
          "output_type": "stream",
          "name": "stdout",
          "text": [
            "Enter the lower limit of the range : 1\n",
            "Enter the upper limit of the range : 10\n",
            "Enter the number of randoms numbers required in the list : 7\n",
            "List of N random numbers between a specified range is [9, 7, 10, 6, 4, 9, 4]\n"
          ]
        }
      ]
    },
    {
      "cell_type": "code",
      "source": [
        "# 2. Write a program that counts and prints the number of even numbers in a list of integers.\n",
        "# Input: [1, 2, 3, 4, 5, 6]\n",
        "# Output: 3\n",
        "\n",
        "l1 = [1,2,3,4,5,6]\n",
        "\n",
        "count=0\n",
        "for i in l1:\n",
        "  if i %2==0:\n",
        "    count+=1\n",
        "print(\"Total even numbers in the list is :\",count)\n"
      ],
      "metadata": {
        "colab": {
          "base_uri": "https://localhost:8080/"
        },
        "id": "Zb7k2t48WRQY",
        "outputId": "aa63635c-76e0-4fe3-d91b-517ea70af284"
      },
      "execution_count": null,
      "outputs": [
        {
          "output_type": "stream",
          "name": "stdout",
          "text": [
            "Total even numbers in the list is : 3\n"
          ]
        }
      ]
    },
    {
      "cell_type": "code",
      "source": [
        "# 3. Write a program to find and print the second largest element in a list of integers.\n",
        "# Input: [10, 20, 4, 45, 99]\n",
        "# Output: 45\n",
        "\n",
        "l2 = [10,20,4,45,99]\n",
        "l2.sort()\n",
        "\n",
        "print(\"Second largest element in the list is\",l2[-2])\n"
      ],
      "metadata": {
        "colab": {
          "base_uri": "https://localhost:8080/"
        },
        "id": "IlEQGaKNW7ab",
        "outputId": "b6a208de-a230-4490-cd90-6eace7918f5e"
      },
      "execution_count": null,
      "outputs": [
        {
          "output_type": "stream",
          "name": "stdout",
          "text": [
            "Second largest element in the list is 45\n"
          ]
        }
      ]
    },
    {
      "cell_type": "code",
      "source": [
        "# 4. Write a Python program to find the average of all elements in a list.\n",
        "\n",
        "l3= [10,20,30,40,50]\n",
        "\n",
        "sum=sum(l3)\n",
        "n= len(l3)\n",
        "\n",
        "average = sum/n\n",
        "\n",
        "print(\"Average of elements in the list is\",average)"
      ],
      "metadata": {
        "colab": {
          "base_uri": "https://localhost:8080/"
        },
        "id": "8Z8DGnX2YiF5",
        "outputId": "40d670af-9727-4fd6-871c-0859b5cb144f"
      },
      "execution_count": null,
      "outputs": [
        {
          "output_type": "stream",
          "name": "stdout",
          "text": [
            "Average of elements in the list is 30.0\n"
          ]
        }
      ]
    },
    {
      "cell_type": "code",
      "source": [
        "# 5. Write a Python program to find the index of the first occurrence of a given element in a list.\n",
        "\n",
        "list_user= input(\"Enter the elements of the list separated by spaces: \")\n",
        "l4 = list(map(int, list_user.split()))\n",
        "\n",
        "n= int(input(\"Enter the element whose index has to be found : \"))\n",
        "\n",
        "if n in l4:\n",
        "  ind=1\n",
        "  length=len(l4)\n",
        "  for i in range(length):\n",
        "    if l4[i]==n:\n",
        "      ind=i\n",
        "      break\n",
        "  print(\"Index of the first occurrence of {} in list is {}\".format(n,ind))\n",
        "\n",
        "else:\n",
        "  print(\"Element is not there in the list\")"
      ],
      "metadata": {
        "colab": {
          "base_uri": "https://localhost:8080/"
        },
        "id": "TXpZt7gfZQXu",
        "outputId": "b9b45837-cbe0-4699-c977-a17d4fdabe2a"
      },
      "execution_count": null,
      "outputs": [
        {
          "output_type": "stream",
          "name": "stdout",
          "text": [
            "Enter the elements of the list separated by spaces: 10 20 45 30 10 23 45\n",
            "Enter the element whose index has to be found : 10\n",
            "Index of the first occurrence of 10 in list is 0\n"
          ]
        }
      ]
    },
    {
      "cell_type": "code",
      "source": [
        "# 6. Write a Python program to find the index of the last occurrence of a given element in a list.\n",
        "\n",
        "lst = input(\"Enter elements of list separated by space:\")\n",
        "l5= list(map(int,lst.split()))\n",
        "\n",
        "N = int(input(\"Enter the element for which the index of the last occurence is to be found: \"))\n",
        "\n",
        "if N in l5:\n",
        "  ind=1\n",
        "  length=len(l5)\n",
        "  for i in range(length):\n",
        "    if l5[i]==N:\n",
        "      ind=i\n",
        "  print(\"Index of the last occurrence of {} in list is {}\".format(N,ind))\n",
        "else:\n",
        "  print(\"This element is not there in the list\")"
      ],
      "metadata": {
        "colab": {
          "base_uri": "https://localhost:8080/"
        },
        "id": "iOr083Thdjyq",
        "outputId": "5b1ad81d-2abb-4869-a523-8ff28d5c774a"
      },
      "execution_count": null,
      "outputs": [
        {
          "output_type": "stream",
          "name": "stdout",
          "text": [
            "Enter elements of list separated by space:1 2 3 4 6 7 1 24 67 8 3 1\n",
            "Enter the element for which th index of the last occurence is to be found: 1\n",
            "Index of the last occurrence of 1 in list is 11\n"
          ]
        }
      ]
    },
    {
      "cell_type": "code",
      "source": [
        "# 7. Write a Python program to remove all occurrences of a given element from a list.\n",
        "\n",
        "lst = input(\"Enter elements of list separated by space:\")\n",
        "l5= list(map(int,lst.split()))\n",
        "\n",
        "N = int(input(\"Enter the element which has to be removed from the list: \"))\n",
        "\n",
        "new_list = [x for x in l5 if x != N]\n",
        "\n",
        "\n",
        "print(\"Original list:\", l5)\n",
        "print(\"New list after removing element\", N, \":\", new_list)\n"
      ],
      "metadata": {
        "id": "2mwW_7VufDgx",
        "colab": {
          "base_uri": "https://localhost:8080/"
        },
        "outputId": "c3f2339e-8ff0-4a53-f350-ebfa690d21a0"
      },
      "execution_count": 1,
      "outputs": [
        {
          "output_type": "stream",
          "name": "stdout",
          "text": [
            "Enter elements of list separated by space:6 7 8 4 5 3 2 2 5 2 2\n",
            "Enter the element which has to be removed from the list: 2\n",
            "Original list: [6, 7, 8, 4, 5, 3, 2, 2, 5, 2, 2]\n",
            "New list after removing element 2 : [6, 7, 8, 4, 5, 3, 5]\n"
          ]
        }
      ]
    },
    {
      "cell_type": "code",
      "source": [
        "# 8. Write a Python program to insert an element at a specific index in a list.\n",
        "lst=input(\"Enter elemenets of list separated by space:\")\n",
        "l6= list(map(int,lst.split()))\n",
        "\n",
        "n=int(input(\"Enter the element to be added\"))\n",
        "ind= int(input(\"Enter the index at which the element has to be added\"))\n",
        "\n",
        "my_list = l6[:ind] + [n] + l6[ind:]\n",
        "\n",
        "print(\"Original list:\", l6)\n",
        "print(\"New list after inserting element\", N, \":\", my_list)\n",
        "\n"
      ],
      "metadata": {
        "colab": {
          "base_uri": "https://localhost:8080/"
        },
        "id": "HHHbZePgOtYL",
        "outputId": "7d7e89de-b64a-4597-b060-6de94fb64207"
      },
      "execution_count": 2,
      "outputs": [
        {
          "output_type": "stream",
          "name": "stdout",
          "text": [
            "Enter elemenets of list separated by space:4 6 7 2 45 6 8\n",
            "Enter the element to be added5\n",
            "Enter the index at which the element has to be added3\n",
            "Original list: [4, 6, 7, 2, 45, 6, 8]\n",
            "New list after inserting element 2 : [4, 6, 7, 5, 2, 45, 6, 8]\n"
          ]
        }
      ]
    },
    {
      "cell_type": "code",
      "source": [
        "# 9. Write a program that rotates a list of integers to the left by a given number of positions.\n",
        "# Input: [1, 2, 3, 4, 5], k = 2\n",
        "# Output: [3, 4, 5, 1, 2]\n",
        "\n",
        "lst=input(\"Enter elements of list separated by space: \")\n",
        "lst7= list(map(int,lst.split()))\n",
        "\n",
        "k= int(input(\"Enter the position by which integers have to be rotated: \"))\n",
        "\n",
        "n = len(lst7)\n",
        "positions = k % n\n",
        "\n",
        "# Rotating the list to the left by the given number of positions\n",
        "rotated_list = lst7[positions:] + lst7[:positions]\n",
        "\n",
        "print(\"Original list:\", lst7)\n",
        "print(\"New list after rotation : \", rotated_list)\n"
      ],
      "metadata": {
        "colab": {
          "base_uri": "https://localhost:8080/"
        },
        "id": "spFXFYTtQp_f",
        "outputId": "91e26917-abad-4bce-afcd-29baa470966a"
      },
      "execution_count": 7,
      "outputs": [
        {
          "output_type": "stream",
          "name": "stdout",
          "text": [
            "Enter elements of list separated by space: 2 4 6 7 9\n",
            "Enter the position by which integers have to be rotated: 1\n",
            "1\n",
            "Original list: [2, 4, 6, 7, 9]\n",
            "New list after rotation :  [4, 6, 7, 9, 2]\n"
          ]
        }
      ]
    },
    {
      "cell_type": "code",
      "source": [
        "# 10. Write a Python program to sort a list in ascending order.\n",
        "\n",
        "lst = input(\"Enter elements of list separated by space: \")\n",
        "l8= list(map(int,lst.split()))\n",
        "\n",
        "sorted_list= l8.sort()\n",
        "\n",
        "print(\"Original list: \",lst)\n",
        "print(\"Sorted List: \",l8)"
      ],
      "metadata": {
        "colab": {
          "base_uri": "https://localhost:8080/"
        },
        "id": "V1q0Gl0QQmu5",
        "outputId": "b7e8c928-f6c0-49ae-eca9-4e17bfa4ffe6"
      },
      "execution_count": 10,
      "outputs": [
        {
          "output_type": "stream",
          "name": "stdout",
          "text": [
            "Enter elements of list separated by space: 3 5 1 3 2 7 4 6\n",
            "Original list:  3 5 1 3 2 7 4 6\n",
            "Sorted List:  [1, 2, 3, 3, 4, 5, 6, 7]\n"
          ]
        }
      ]
    },
    {
      "cell_type": "code",
      "source": [
        "\n",
        "######### MCQ's #############"
      ],
      "metadata": {
        "id": "dzJqk-vwUYKb"
      },
      "execution_count": null,
      "outputs": []
    },
    {
      "cell_type": "code",
      "source": [
        "# Which of the following would give an error?\n",
        "\n",
        "# A. list1=[]\n",
        "# B. list1=[]*3\n",
        "# C. list1=[2,8,7]\n",
        "# D. None of the above\n",
        "\n",
        "Answer : D. None of the above\n",
        "\n",
        "# 2. Which of the following is True regarding lists in Python?\n",
        "\n",
        "# A. Lists are immutable.\n",
        "# B. Size of the lists must be specified before its initialization\n",
        "# C. Elements of lists are stored in contagious memory location.\n",
        "# D. size(list1) command is used to find the size of lists.\n",
        "\n",
        "Answer : C. Elements of lists are stored in contagious memory location.\n",
        "\n",
        "# 3. What will be the output of below Python code?\n",
        "\n",
        "# list1=[8,0,9,5]\n",
        "\n",
        "# print(list1[::-1])\n",
        "# A. [5,9,0,8]\n",
        "# B. [8,0,9]\n",
        "# C. [8,0,9,5]\n",
        "# D. [0,9,5]\n",
        "\n",
        "Answer :  A. [5,9,0,8]\n",
        "\n",
        "# 4. Which of the following will give output as [23,2,9,75] ?\n",
        "\n",
        "# If list1=[6,23,3,2,0,9,8,75]\n",
        "# A. print(list1[1:7:2])\n",
        "# B. print(list1[0:7:2])\n",
        "# C. print(list1[1:8:2])\n",
        "# D. print(list1[0:8:2])\n",
        "\n",
        "Answer: A. print(list1[1:7:2])\n",
        "\n",
        "# 5. The marks of a student on 6 subjects are stored in a list, list1=[80,66,94,87,99,95]. How can the student's average mark be calculated?\n",
        "\n",
        "# A. print(avg(list1))\n",
        "# B. print(sum(list1)/len(list1))\n",
        "# C. print(sum(list1)/sizeof(list1))\n",
        "# D. print(total(list1)/len(list1))\n",
        "\n",
        "\n",
        "Answer: B. print(sum(list1)/len(list1))\n",
        "\n",
        "# 6. What will be the output of following Python code?\n",
        "\n",
        "# list1=[\"Python\",\"Java\",\"c\",\"C\",\"C++\"]\n",
        "\n",
        "# print(min(list1))\n",
        "# A. c\n",
        "# B. C++\n",
        "# C. C\n",
        "# D. min function cannot be used on string elements\n",
        "\n",
        "Answer:  A. c\n",
        "\n",
        "# 7. The elements of a list are arranged in descending order. Which of the following two will give same outputs?\n",
        "#    i. print(list_name.sort())\n",
        "#    ii. print(max(list_name))\n",
        "#    iii. print(list_name.reverse())\n",
        "#    iv. print(list_name[-1])\n",
        "\n",
        "# A. i, ii\n",
        "# B. i, iii\n",
        "# C. ii, iii\n",
        "# D. iii, iv\n",
        "\n",
        "Answer: D. iii, iv\n",
        "\n",
        "\n",
        "# 8.  What will be the result after the execution of above Python code?\n",
        "\n",
        "# list1=[3,2,5,7,3,6]\n",
        "\n",
        "# list1.pop(3)\n",
        "\n",
        "# print(list1)\n",
        "# A. [3,2,5,3,6]\n",
        "# B. [2,5,7,3,6]\n",
        "# C. [2,5,7,6]\n",
        "# D. [3,2,5,7,3,6]\n",
        "\n",
        "Answer : A. [3,2,5,3,6]\n",
        "\n",
        "# 9. What will be the output of below Python code?\n",
        "\n",
        "# list1=[1,3,5,2,4,6,2]\n",
        "\n",
        "# list1.remove(2)\n",
        "\n",
        "# print(sum(list1))\n",
        "# A. 18\n",
        "# B. 19\n",
        "# C. 21\n",
        "# D. 22\n",
        "\n",
        "Answer: C. 21\n",
        "\n",
        "# 10. What will be the output of below Python code?\n",
        "\n",
        "# list1=[\"tom\",\"mary\",\"simon\"]\n",
        "\n",
        "# list1.insert(5,8)\n",
        "\n",
        "# print(list1)\n",
        "# A. [\"tom\", \"mary\", \"simon\", 5]\n",
        "# B. [\"tom\", \"mary\", \"simon\", 8]\n",
        "# C. [8, \"tom\", \"mary\", \"simon\"]\n",
        "# D. Error\n",
        "\n",
        "Answer: B. [\"tom\", \"mary\", \"simon\", 8]\n"
      ],
      "metadata": {
        "id": "-emQywFdh8Yp"
      },
      "execution_count": null,
      "outputs": []
    }
  ]
}